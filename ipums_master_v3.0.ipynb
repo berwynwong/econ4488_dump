{
 "cells": [
  {
   "cell_type": "code",
   "execution_count": 1,
   "metadata": {},
   "outputs": [
    {
     "name": "stderr",
     "output_type": "stream",
     "text": [
      "C:\\Users\\Asus\\Anaconda3\\lib\\site-packages\\statsmodels\\compat\\pandas.py:56: FutureWarning: The pandas.core.datetools module is deprecated and will be removed in a future version. Please use the pandas.tseries module instead.\n",
      "  from pandas.core import datetools\n"
     ]
    },
    {
     "name": "stdout",
     "output_type": "stream",
     "text": [
      "1970 is done!\n",
      "1980 is done!\n",
      "1991 is done!\n",
      "2000 is done!\n"
     ]
    }
   ],
   "source": [
    "import pandas as pd\n",
    "import matplotlib.pyplot as plt\n",
    "import numpy as np\n",
    "import sys\n",
    "import time\n",
    "import statsmodels.api as sm\n",
    "import statsmodels.formula.api as smf\n",
    "from statsmodels.iolib.summary2 import summary_col\n",
    "\n",
    "repo_link = \"https://raw.githubusercontent.com/berwynwong/econ4488/master/\"\n",
    "year_list = [1970, 1980, 1991, 2000]\n",
    "ipums_list = []\n",
    "\n",
    "for i, year in enumerate(year_list):\n",
    "    ipums_raw = pd.read_csv(repo_link+\"ipums{}.csv\".format(year))\n",
    "    var_dict = pd.read_csv(repo_link+\"var_dict\", index_col=0).to_dict() # renaming some commonly used variables\n",
    "    ipums_list.append(ipums_raw.rename(columns=var_dict['newvar']))\n",
    "    print(\"{} is done!\".format(year))"
   ]
  },
  {
   "cell_type": "markdown",
   "metadata": {},
   "source": [
    "### We only consider Peninsular Malaysia male citizens who are wage workers"
   ]
  },
  {
   "cell_type": "code",
   "execution_count": 2,
   "metadata": {},
   "outputs": [
    {
     "name": "stdout",
     "output_type": "stream",
     "text": [
      "Shape is (31433, 36)\n",
      "1970\n",
      "Shape is (39378, 36)\n",
      "1980\n",
      "Shape is (68662, 36)\n",
      "1991\n",
      "Shape is (89270, 33)\n",
      "2000\n"
     ]
    }
   ],
   "source": [
    "for i, df in enumerate(ipums_list):\n",
    "    df = df[df.sex != 2] # Female\n",
    "    df = df[df.geo1 !=458012] # Sabah, Labuan Federal Territory\n",
    "    df = df[df.geo2 !=458013] # Sarawak\n",
    "    df = df[df.empstat == 1] # Not employed\n",
    "    df = df[df.age >=15]\n",
    "    df = df[df.claswk !=3] # Unpaid\n",
    "    ipums_list[i] = df\n",
    "\n",
    "df_list = []\n",
    "\n",
    "for i, df in enumerate(ipums_list):\n",
    "    df = df[df.occ != 000]\n",
    "    df = df[df.occ != 999]\n",
    "    df = df[df.own != 0]\n",
    "    df = df[df.birstate != 15] # Labuan\n",
    "    df = df[df.marst !=0]\n",
    "    df = df[df.ethmy != 99] # NIU (1991:14411, 2000:23399)\n",
    "    df = df[df.empstat != 0] # NIU (54601, 48289, 89729, 99921)\n",
    "    df = df[df.indgen != 000] # NIU (118484, 118426, 225137, 272021)\n",
    "    df = df[df.claswk != 0] # NIU (120986, 118426, 210914, 271975)\n",
    "    df_list.append(df)\n",
    "    print(\"Shape is \" + str(df.shape))\n",
    "    print(df['YEAR'][0])"
   ]
  },
  {
   "cell_type": "code",
   "execution_count": 3,
   "metadata": {
    "collapsed": true
   },
   "outputs": [],
   "source": [
    "occ_missing = {1970: {998: np.NaN, 999: np.NaN},\n",
    "               1980: {997: np.NaN, 998: np.NaN},\n",
    "               1991: {995: np.NaN, 998: np.NaN},\n",
    "               2000: {998: np.NaN, 999: np.NaN}}\n",
    "\n",
    "missing_dict = {'age': {999: np.NaN},\n",
    "                'birctry': {69900: np.NaN, 99999: np.NaN},\n",
    "                'birstate': {99: np.NaN},\n",
    "                'claswk': {9: np.NaN},\n",
    "                'edat': {9: np.NaN},\n",
    "                'edumy': {999: np.NaN},\n",
    "                'empstat': {9: np.NaN},\n",
    "                'ethmy': {98: np.NaN},\n",
    "                'indgen': {999: np.NaN},\n",
    "                'marst': {0: np.NaN, 9: np.NaN},\n",
    "                'nat': {9: np.NaN},\n",
    "                'own': {9: np.NaN},\n",
    "                'relg': {9: np.NaN},\n",
    "                'sex': {9: np.NaN},\n",
    "                'urb': {9: np.NaN}}"
   ]
  },
  {
   "cell_type": "code",
   "execution_count": 4,
   "metadata": {
    "collapsed": true
   },
   "outputs": [],
   "source": [
    "for i, df in enumerate(df_list):\n",
    "    df_year = df['YEAR'][0]\n",
    "    for var in list(missing_dict):\n",
    "        df = df.replace(missing_dict)\n",
    "    df['occ'] = df['occ'].replace(occ_missing[df_year])\n",
    "    df_list[i] = df"
   ]
  },
  {
   "cell_type": "code",
   "execution_count": 5,
   "metadata": {
    "collapsed": true
   },
   "outputs": [],
   "source": [
    "def df_recode(df):\n",
    "    for precode, newcode in zip(['ethmy','edumy'],['race', 'edu']):\n",
    "        code_dict = pd.read_csv(repo_link+newcode, index_col=0).to_dict()\n",
    "        # I created dictionaries that classify Malaysian races and education in a way that makes sense given the context.\n",
    "        # Categorised races into Malay, Chinese, Indian, non-Malay indigenous, Other\n",
    "        # Categorised education into less than primary, primary, lower secondary, upper secondary, tertiary\n",
    "        # See github repository for more details\n",
    "        df[newcode] = df[precode].map(code_dict[precode])\n",
    "    # I also used dictionaries for assigning ISEI scores to each occupational code\n",
    "    df_year = df['YEAR'][0]\n",
    "    isei_dict = pd.read_csv(repo_link+'isei'+str(df_year), index_col=0).to_dict()\n",
    "    df['isei'] = df['occ'].map(isei_dict['occ'])\n",
    "    return df"
   ]
  },
  {
   "cell_type": "code",
   "execution_count": 6,
   "metadata": {
    "scrolled": true
   },
   "outputs": [
    {
     "name": "stdout",
     "output_type": "stream",
     "text": [
      "Wall time: 3.2 s\n"
     ]
    }
   ],
   "source": [
    "%%time\n",
    "for i, df in enumerate(df_list):\n",
    "    df_list[i] = df_recode(df)"
   ]
  },
  {
   "cell_type": "code",
   "execution_count": 7,
   "metadata": {
    "collapsed": true
   },
   "outputs": [],
   "source": [
    "for i, df in enumerate(df_list):\n",
    "    for col in ['urb', 'geo1', 'geo2', 'own', 'nat', 'birctry',\n",
    "                'birstate', 'relg', 'marst', 'empstat', 'indgen', 'claswk', 'race']:\n",
    "        df[col] = df[col].astype('category')\n",
    "        df_list[i]=df\n",
    "        \n",
    "for i, df in enumerate(df_list):\n",
    "    df['edu'] = df['edu'].astype('category', ordered=True)\n",
    "    df_list[i]=df"
   ]
  },
  {
   "cell_type": "code",
   "execution_count": 8,
   "metadata": {
    "collapsed": true
   },
   "outputs": [],
   "source": [
    "df_dict = {1970:df_list[0],\n",
    "      1980:df_list[1],\n",
    "      1991:df_list[2],\n",
    "      2000:df_list[3]}"
   ]
  },
  {
   "cell_type": "markdown",
   "metadata": {},
   "source": [
    "## Regression modelling"
   ]
  },
  {
   "cell_type": "code",
   "execution_count": 9,
   "metadata": {
    "collapsed": true,
    "scrolled": true
   },
   "outputs": [],
   "source": [
    "reg_form0 = \"race\"\n",
    "reg_form1 = \"race + edu + age + np.power(age, 2)\"\n",
    "reg_form2 = \"race + edu + age + np.power(age, 2) + indgen + own + marst\"\n",
    "reg_form3 = \"edu + age + np.power(age, 2) + indgen + own + marst + urb + claswk + geo2 + birstate\"\n",
    "reg_form4 = \"race + edu + age + np.power(age, 2) + indgen + own + marst + urb + claswk + geo2 + birstate + race*edu\"\n",
    "reg_form5 = \"race + edu + age + np.power(age, 2) + indgen + own + marst + urb + claswk + geo2 + birstate + race*edu + race*indgen+race*urb\""
   ]
  },
  {
   "cell_type": "code",
   "execution_count": 51,
   "metadata": {
    "collapsed": true
   },
   "outputs": [],
   "source": [
    "class Oaxaca(object):\n",
    "        \n",
    "    def __init__(self, df, races=[0,1], \n",
    "                 varlist=['edu', 'indgen', 'own', 'marst', 'urb', 'claswk', 'geo2', 'birstate', 'age'], \n",
    "                 reg=reg_form3):\n",
    "        self.races = races\n",
    "        self.varlist = varlist\n",
    "        self.reg = reg_form3\n",
    "        self.df = df\n",
    "    \n",
    "    def df_race(self, j=0):\n",
    "        return self.df[self.df.race == j]\n",
    "        \n",
    "    def models(self, df_i):\n",
    "        reg_line = 'isei ~'+self.reg\n",
    "        x = smf.ols(reg_line, df_i).fit(cov_type='HC0')\n",
    "        return x\n",
    "    \n",
    "    def df_boot(self,j):\n",
    "        rfit, rres = self.models(self.df_race(j)).fittedvalues, self.models(self.df_race(j)).resid\n",
    "        data = pd.DataFrame(data=np.transpose([np.log(np.square((rres.values))), rfit.values, np.square(rfit.values)]),\n",
    "                            columns=['epsilon','fitted','fitted2'])\n",
    "        x = smf.ols('epsilon ~ fitted + fitted2', data=data).fit(cov_type='HC0')\n",
    "        pick =np.random.choice(a=x.resid, size=len(x.resid), replace=True)\n",
    "#         array1 = np.array((np.ones(len(pick)), rfit, np.square(rfit).T, pick))\n",
    "#         array2 = np.concatenate((x.params.values,[1]))\n",
    "        le_star = x.fittedvalues + pick\n",
    "        e_star = np.sign(rres.values) * np.exp(0.5*le_star)\n",
    "        isei_boot = rfit + e_star\n",
    "        df_boot = self.df_race(j).copy()\n",
    "        df_boot['isei']=isei_boot\n",
    "        return df_boot\n",
    "\n",
    "#     def df_boot(self, j):\n",
    "#         df_boot = self.df_race(j).sample(n=len(self.df_race(j)), replace=True)\n",
    "#         return df_boot\n",
    "    \n",
    "    def char(self, j=0):\n",
    "        char = [1]\n",
    "        for v in self.varlist:\n",
    "            if v == 'age':\n",
    "                var_list = [self.df_race(j).age.mean(), np.square(self.df_race(j).age.mean())]\n",
    "                char += var_list\n",
    "            else:\n",
    "                var_list = self.df_race(j)[v].value_counts(sort=False, normalize=True).tolist()\n",
    "                char += var_list[1:]\n",
    "        char = pd.Series(char, index=self.models(self.df_race(j)).params.index).values\n",
    "        return char\n",
    "    \n",
    "    def betas(self, d='classic0', boot=False):\n",
    "        if boot==True:\n",
    "            df1,df2=self.df_boot(self.races[0]),self.df_boot(self.races[1])\n",
    "        else:\n",
    "            df1,df2=self.df_race(self.races[0]),self.df_race(self.races[1])\n",
    "        df_full = pd.concat([df1, df2])\n",
    "        bs0, bs1 = self.models(df1).params.values, self.models(df2).params.values\n",
    "        if d=='ransom':\n",
    "            b_param = smf.ols('isei~race+'+self.reg, df_full).fit().params.values\n",
    "            b_c = np.concatenate([np.array(b_param[0]), b_param[4:]])\n",
    "        elif d=='neumark':\n",
    "            b_c = smf.ols('isei~'+self.reg, df_full).fit().params.values\n",
    "        else:\n",
    "            tau_dict = {'classic0':0, 'classic1':1, 'reimers':0.5, \n",
    "                        'cotton':self.df.race.value_counts(normalize=True).to_dict()[0]}\n",
    "            tau = tau_dict[d]\n",
    "            b_c = tau*bs0 + (1-tau)*bs1\n",
    "        return bs0, bs1, b_c\n",
    "    \n",
    "    def decomp(self, d='classic0', boot=False):\n",
    "        b0, b1, bc = self.betas(d, boot)\n",
    "        j,k = self.races[0], self.races[1]\n",
    "        R = b1@self.char(k) - b0@self.char(j)\n",
    "        E = bc@(self.char(k) - self.char(j))\n",
    "        D_former = self.char(k).T@(b1-bc)\n",
    "        D_latter = self.char(j).T@(bc-b0)\n",
    "        U = D_former + D_latter\n",
    "        return R,E,D_former, D_latter, U\n",
    "    \n",
    "    def results(self, N, d='classic0'):\n",
    "        dist_array = np.empty((N,5))\n",
    "        total = N\n",
    "        status='Bootstrapping'\n",
    "        for i in range(N):\n",
    "            dist_array[i]=self.decomp(d, boot=True)\n",
    "            bar_len = 60\n",
    "            filled_len = int(round(bar_len * i / float(total)))\n",
    "            percents = round(100.0 * i / float(total), 1)\n",
    "            bar = '=' * filled_len + '-' * (bar_len - filled_len)\n",
    "\n",
    "            sys.stdout.write('[%s] %s%s ...%s\\r' % (bar, percents, '%', status))\n",
    "            sys.stdout.flush()\n",
    "        data = np.array([self.decomp(d), dist_array.T.mean(axis=1), np.median(dist_array.T, axis=1), dist_array.T.std(axis=1)])\n",
    "        columns=['Actual', 'Boot. Mean', 'Boot.Median', 'Boot.Std']\n",
    "        idx = ['Raw', 'Explained', 'Discrim. to former','Discrim. to latter', 'Total unexplained']\n",
    "        results_df = pd.DataFrame(data.T, columns=columns, index=idx)\n",
    "        results_df.name = '{}_{}_{}'.format(int(self.df.YEAR.mean()), str(self.races), d)\n",
    "        return results_df, dist_array"
   ]
  },
  {
   "cell_type": "code",
   "execution_count": 77,
   "metadata": {
    "scrolled": false
   },
   "outputs": [
    {
     "name": "stdout",
     "output_type": "stream",
     "text": [
      "Wall time: 54min 40s=========================================] 99.9% ...Bootstrapping\n"
     ]
    }
   ],
   "source": [
    "%%time\n",
    "b=Oaxaca(df_dict[1980]).results(1000, 'neumark')"
   ]
  },
  {
   "cell_type": "code",
   "execution_count": 78,
   "metadata": {},
   "outputs": [
    {
     "data": {
      "text/plain": [
       "'1980_[0, 1]_neumark'"
      ]
     },
     "execution_count": 78,
     "metadata": {},
     "output_type": "execute_result"
    }
   ],
   "source": [
    "b[0].name"
   ]
  },
  {
   "cell_type": "code",
   "execution_count": 79,
   "metadata": {},
   "outputs": [
    {
     "name": "stdout",
     "output_type": "stream",
     "text": [
      "                      Actual  Boot. Mean  Boot.Median  Boot.Std\n",
      "Raw                 3.616982    2.397336     2.384705  0.564299\n",
      "Explained           2.818183    2.490806     2.482196  0.179055\n",
      "Discrim. to former  0.457748   -0.095219    -0.111108  0.325212\n",
      "Discrim. to latter  0.341051    0.001748    -0.005537  0.215820\n",
      "Total unexplained   0.798799   -0.093471    -0.112691  0.533779\n"
     ]
    }
   ],
   "source": [
    "print(b[0])"
   ]
  },
  {
   "cell_type": "code",
   "execution_count": 83,
   "metadata": {},
   "outputs": [],
   "source": [
    "ar=b[1].T[3]"
   ]
  },
  {
   "cell_type": "code",
   "execution_count": 84,
   "metadata": {
    "collapsed": true
   },
   "outputs": [],
   "source": [
    "import seaborn as sn"
   ]
  },
  {
   "cell_type": "code",
   "execution_count": 85,
   "metadata": {},
   "outputs": [
    {
     "data": {
      "image/png": "[encoded data removed]",
      "text/plain": [
       "<matplotlib.figure.Figure at 0x2d65076d828>"
      ]
     },
     "metadata": {},
     "output_type": "display_data"
    }
   ],
   "source": [
    "sn.distplot(ar)\n",
    "plt.show()"
   ]
  },
  {
   "cell_type": "code",
   "execution_count": 70,
   "metadata": {},
   "outputs": [
    {
     "ename": "AttributeError",
     "evalue": "'numpy.ndarray' object has no attribute 'norm'",
     "output_type": "error",
     "traceback": [
      "\u001b[1;31m---------------------------------------------------------------------------\u001b[0m",
      "\u001b[1;31mAttributeError\u001b[0m                            Traceback (most recent call last)",
      "\u001b[1;32m<ipython-input-70-11bab081eb3b>\u001b[0m in \u001b[0;36m<module>\u001b[1;34m()\u001b[0m\n\u001b[1;32m----> 1\u001b[1;33m \u001b[0mR\u001b[0m \u001b[1;33m=\u001b[0m \u001b[0mar\u001b[0m\u001b[1;33m.\u001b[0m\u001b[0mnorm\u001b[0m\u001b[1;33m.\u001b[0m\u001b[0minterval\u001b[0m\u001b[1;33m(\u001b[0m\u001b[1;36m0.05\u001b[0m\u001b[1;33m,\u001b[0m\u001b[0mloc\u001b[0m\u001b[1;33m=\u001b[0m\u001b[0mmean\u001b[0m\u001b[1;33m,\u001b[0m\u001b[0mscale\u001b[0m\u001b[1;33m=\u001b[0m\u001b[0mstd\u001b[0m\u001b[1;33m)\u001b[0m\u001b[1;33m\u001b[0m\u001b[0m\n\u001b[0m",
      "\u001b[1;31mAttributeError\u001b[0m: 'numpy.ndarray' object has no attribute 'norm'"
     ]
    }
   ],
   "source": [
    "R = ar.norm.interval(0.05,loc=mean,scale=std)"
   ]
  },
  {
   "cell_type": "code",
   "execution_count": null,
   "metadata": {
    "collapsed": true
   },
   "outputs": [],
   "source": []
  }
 ],
 "metadata": {
  "kernelspec": {
   "display_name": "Python 3",
   "language": "python",
   "name": "python3"
  },
  "language_info": {
   "codemirror_mode": {
    "name": "ipython",
    "version": 3
   },
   "file_extension": ".py",
   "mimetype": "text/x-python",
   "name": "python",
   "nbconvert_exporter": "python",
   "pygments_lexer": "ipython3",
   "version": "3.6.3"
  }
 },
 "nbformat": 4,
 "nbformat_minor": 2
}
