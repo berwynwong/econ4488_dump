{
 "cells": [
  {
   "cell_type": "code",
   "execution_count": 1,
   "metadata": {
    "collapsed": false
   },
   "outputs": [],
   "source": [
    "import pandas as pd\n",
    "import matplotlib.pyplot as plt\n",
    "import numpy as np\n",
    "import statsmodels.api as sm\n",
    "import statsmodels.formula.api as smf\n",
    "from statsmodels.iolib.summary2 import summary_col\n",
    "\n",
    "repo_link = \"https://raw.githubusercontent.com/berwynwong/econ4488/master/\"\n",
    "year_list = [1970, 1980, 1991, 2000]\n",
    "ipums_list = []\n",
    "\n",
    "for i, year in enumerate(year_list):\n",
    "    ipums_raw = pd.read_csv(repo_link+\"ipums{}.csv\".format(year))\n",
    "    var_dict = pd.read_csv(repo_link+\"var_dict\", index_col=0).to_dict() # renaming some commonly used variables\n",
    "    ipums_list.append(ipums_raw.rename(columns=var_dict['newvar']))"
   ]
  },
  {
   "cell_type": "markdown",
   "metadata": {},
   "source": [
    "### We only consider Peninsular Malaysia male citizens who are wage workers"
   ]
  },
  {
   "cell_type": "code",
   "execution_count": 2,
   "metadata": {
    "collapsed": false
   },
   "outputs": [
    {
     "name": "stdout",
     "output_type": "stream",
     "text": [
      "Shape is (31433, 36)\n",
      "1970\n",
      "Shape is (39378, 36)\n",
      "1980\n",
      "Shape is (68662, 36)\n",
      "1991\n",
      "Shape is (89270, 33)\n",
      "2000\n"
     ]
    }
   ],
   "source": [
    "for i, df in enumerate(ipums_list):\n",
    "    df = df[df.sex != 2] # Female\n",
    "    df = df[df.geo1 !=458012] # Sabah, Labuan Federal Territory\n",
    "    df = df[df.geo2 !=458013] # Sarawak\n",
    "    df = df[df.empstat == 1] # Not employed\n",
    "    df = df[df.age >=15]\n",
    "    df = df[df.claswk !=3] # Unpaid\n",
    "    ipums_list[i] = df\n",
    "\n",
    "df_list = []\n",
    "\n",
    "for i, df in enumerate(ipums_list):\n",
    "    df = df[df.occ != 000]\n",
    "    df = df[df.occ != 999]\n",
    "    df = df[df.own != 0]\n",
    "    df = df[df.birstate != 15] # Labuan\n",
    "    df = df[df.marst !=0]\n",
    "    df = df[df.ethmy != 99] # NIU (1991:14411, 2000:23399)\n",
    "    df = df[df.empstat != 0] # NIU (54601, 48289, 89729, 99921)\n",
    "    df = df[df.indgen != 000] # NIU (118484, 118426, 225137, 272021)\n",
    "    df = df[df.claswk != 0] # NIU (120986, 118426, 210914, 271975)\n",
    "    df_list.append(df)\n",
    "    print(\"Shape is \" + str(df.shape))\n",
    "    print(df['YEAR'][0])"
   ]
  },
  {
   "cell_type": "code",
   "execution_count": 3,
   "metadata": {
    "collapsed": false
   },
   "outputs": [],
   "source": [
    "occ_missing = {1970: {998: np.NaN, 999: np.NaN},\n",
    "               1980: {997: np.NaN, 998: np.NaN},\n",
    "               1991: {995: np.NaN, 998: np.NaN},\n",
    "               2000: {998: np.NaN, 999: np.NaN}}\n",
    "\n",
    "missing_dict = {'age': {999: np.NaN},\n",
    "                'birctry': {69900: np.NaN, 99999: np.NaN},\n",
    "                'birstate': {99: np.NaN},\n",
    "                'claswk': {9: np.NaN},\n",
    "                'edat': {9: np.NaN},\n",
    "                'edumy': {999: np.NaN},\n",
    "                'empstat': {9: np.NaN},\n",
    "                'ethmy': {98: np.NaN},\n",
    "                'indgen': {999: np.NaN},\n",
    "                'marst': {0: np.NaN, 9: np.NaN},\n",
    "                'nat': {9: np.NaN},\n",
    "                'own': {9: np.NaN},\n",
    "                'relg': {9: np.NaN},\n",
    "                'sex': {9: np.NaN},\n",
    "                'urb': {9: np.NaN}}"
   ]
  },
  {
   "cell_type": "code",
   "execution_count": 4,
   "metadata": {
    "collapsed": true
   },
   "outputs": [],
   "source": [
    "for i, df in enumerate(df_list):\n",
    "    df_year = df['YEAR'][0]\n",
    "    for var in list(missing_dict):\n",
    "        df = df.replace(missing_dict)\n",
    "    df['occ'] = df['occ'].replace(occ_missing[df_year])\n",
    "    df_list[i] = df"
   ]
  },
  {
   "cell_type": "code",
   "execution_count": 5,
   "metadata": {
    "collapsed": false
   },
   "outputs": [],
   "source": [
    "def df_recode(df):\n",
    "    for precode, newcode in zip(['ethmy','edumy'],['race', 'edu']):\n",
    "        code_dict = pd.read_csv(repo_link+newcode, index_col=0).to_dict()\n",
    "        # I created dictionaries that classify Malaysian races and education in a way that makes sense given the context.\n",
    "        # Categorised races into Malay, Chinese, Indian, non-Malay indigenous, Other\n",
    "        # Categorised education into less than primary, primary, lower secondary, upper secondary, tertiary\n",
    "        # See github repository for more details\n",
    "        df[newcode] = df[precode].map(code_dict[precode])\n",
    "    # I also used dictionaries for assigning ISEI scores to each occupational code\n",
    "    df_year = df['YEAR'][0]\n",
    "    isei_dict = pd.read_csv(repo_link+'isei'+str(df_year), index_col=0).to_dict()\n",
    "    df['isei'] = df['occ'].map(isei_dict['occ'])\n",
    "    return df"
   ]
  },
  {
   "cell_type": "code",
   "execution_count": 6,
   "metadata": {
    "collapsed": false,
    "scrolled": true
   },
   "outputs": [
    {
     "name": "stdout",
     "output_type": "stream",
     "text": [
      "Wall time: 3.31 s\n"
     ]
    }
   ],
   "source": [
    "%%time\n",
    "for i, df in enumerate(df_list):\n",
    "    df_list[i] = df_recode(df)"
   ]
  },
  {
   "cell_type": "code",
   "execution_count": 7,
   "metadata": {
    "collapsed": false
   },
   "outputs": [],
   "source": [
    "for i, df in enumerate(df_list):\n",
    "    for col in ['urb', 'geo1', 'geo2', 'own', 'nat', 'birctry',\n",
    "                'birstate', 'relg', 'marst', 'empstat', 'indgen', 'claswk', 'race']:\n",
    "        df[col] = df[col].astype('category')\n",
    "        df_list[i]=df\n",
    "        \n",
    "for i, df in enumerate(df_list):\n",
    "    df['edu'] = df['edu'].astype('category', ordered=True)\n",
    "    df_list[i]=df"
   ]
  },
  {
   "cell_type": "code",
   "execution_count": 8,
   "metadata": {
    "collapsed": false
   },
   "outputs": [],
   "source": [
    "df_dict = {1970:df_list[0],\n",
    "      1980:df_list[1],\n",
    "      1991:df_list[2],\n",
    "      2000:df_list[3]}"
   ]
  },
  {
   "cell_type": "markdown",
   "metadata": {},
   "source": [
    "## Regression modelling"
   ]
  },
  {
   "cell_type": "code",
   "execution_count": 9,
   "metadata": {
    "collapsed": false,
    "scrolled": true
   },
   "outputs": [],
   "source": [
    "reg_form0 = \"race\"\n",
    "reg_form1 = \"race + edu + age + np.power(age, 2)\"\n",
    "reg_form2 = \"race + edu + age + np.power(age, 2) + indgen + own + marst\"\n",
    "reg_form3 = \"edu + age + np.power(age, 2) + indgen + own + marst + urb + claswk + geo2 + birstate\"\n",
    "reg_form4 = \"race + edu + age + np.power(age, 2) + indgen + own + marst + urb + claswk + geo2 + birstate + race*edu\"\n",
    "reg_form5 = \"race + edu + age + np.power(age, 2) + indgen + own + marst + urb + claswk + geo2 + birstate + race*edu + race*indgen+race*urb\""
   ]
  },
  {
   "cell_type": "code",
   "execution_count": 10,
   "metadata": {
    "collapsed": false
   },
   "outputs": [],
   "source": [
    "class Oaxaca(object):\n",
    "        \n",
    "    def __init__(self, year, races=[0,1], \n",
    "                 varlist=['edu', 'indgen', 'own', 'marst', 'urb', 'claswk', 'geo2', 'birstate', 'age'], \n",
    "                 reg=reg_form3):\n",
    "        self.races = races\n",
    "        self.year = year\n",
    "        self.varlist = varlist\n",
    "        self.reg = reg_form3\n",
    "        self.df = df_dict[year]\n",
    "    \n",
    "    def df_race(self, j=0):\n",
    "        return self.df[self.df.race == j]\n",
    "        \n",
    "    def models(self, df_i):\n",
    "        x = smf.ols('isei ~'+self.reg, df_i).fit(cov_type='HC0')\n",
    "        return x\n",
    "    \n",
    "    def av_char(self, j=0):\n",
    "        char = [1]\n",
    "        for v in self.varlist:\n",
    "            if v == 'age':\n",
    "                var_list = [self.df_race(j).age.mean(), np.power(self.df_race(j).age.mean(), 2)]\n",
    "                char += var_list\n",
    "            else:\n",
    "                var_list = self.df_race(j)[v].value_counts(sort=False, normalize=True).tolist()\n",
    "                char += var_list[1:]\n",
    "        return pd.Series(char, index=self.models(self.df_race(j)).params.index)\n",
    "    \n",
    "    def chars(self, k):\n",
    "        x_list = [np.array(self.av_char(j)) for j in self.races]\n",
    "        return x_list[k]\n",
    "        \n",
    "    def betas(self, k, d='classic0'):\n",
    "        bs = [np.array(self.models(self.df_race(j)).params) for j in self.races]\n",
    "        if d=='ransom':\n",
    "            b_param = smf.ols('isei~race+'+self.reg,self.df).fit().params.tolist()\n",
    "            b_raw = [b_param[0]]+b_param[4:]\n",
    "            b_c = np.array(b_raw)\n",
    "        elif d=='neumark':\n",
    "            b_c = np.array(smf.ols('isei~'+self.reg, self.df).fit().params)\n",
    "        else:\n",
    "            tau_dict = {'classic0':0, 'classic1':1, 'reimers':0.5, \n",
    "                        'cotton':self.df.race.value_counts(normalize=True).to_dict()[0]}\n",
    "            tau = tau_dict[d]\n",
    "            b_c = tau*bs[0] + (1-tau)*bs[1]\n",
    "        b_list = bs + [b_c]\n",
    "        return b_list[k]\n",
    "    \n",
    "    def results(self, d='classic0', p='simple'):\n",
    "        R = self.betas(1,d)@self.chars(1) - self.betas(0,d)@self.chars(0)\n",
    "        E = self.betas(2,d)@(self.chars(1) - self.chars(0))\n",
    "        D_former = np.transpose(self.chars(1))@(self.betas(1,d)-self.betas(2,d))\n",
    "        D_latter = np.transpose(self.chars(0))@(self.betas(2,d)-self.betas(0,d))\n",
    "        U = D_former + D_latter\n",
    "        results_list = [R,E,D_former, D_latter, U]\n",
    "        results_df = pd.DataFrame(data=np.transpose([results_list,[x/R*100 for x in results_list]]),\n",
    "                                  columns=['Level','Percentage'],\n",
    "                                  index=['Raw','Explained',\n",
    "                                         'Pro {}'.format(self.races[1]), \n",
    "                                         'Against {}'.format(self.races[0]), 'Unexplained'])\n",
    "        if p=='simple':\n",
    "            return results_list\n",
    "        elif p=='full':\n",
    "            print('{}: {} and {}, using {}'.format(self.year, self.races[0], self.races[1], d.upper()))\n",
    "            return results_df"
   ]
  },
  {
   "cell_type": "code",
   "execution_count": 222,
   "metadata": {
    "collapsed": false
   },
   "outputs": [],
   "source": [
    "class Oaxaca_stats(Oaxaca):\n",
    "    \n",
    "    # Guided by Ma and Ng (2006)\n",
    "    \n",
    "    def __init__(self, year, T=10000):\n",
    "        self.ob = Oaxaca(year)\n",
    "        self.T = T\n",
    "    \n",
    "    def bootstrap(self, j=0, d='classic0'):\n",
    "        df_boot = self.ob.df_race(j)\n",
    "        rfit, rres = self.ob.models(df_boot).fittedvalues, self.ob.models(df_boot).resid\n",
    "        data = pd.DataFrame(data=np.transpose([np.log(np.square(rres)), rfit, np.square(rfit)]), \n",
    "                            columns=['epsilon', 'fitted', 'fitted2'])\n",
    "        x = smf.ols('epsilon ~ fitted + fitted2', data=data).fit()\n",
    "        pick = np.random.choice(a=x.fittedvalues, size=len(x.fittedvalues), replace=True)\n",
    "        array1 = np.array((np.ones(len(pick)), rfit, np.square(rfit).T, pick))\n",
    "        array2 = np.concatenate((x.params.values,[1]))\n",
    "        e_star = np.sign(rres.values) * np.exp(0.5*array2@array1).T\n",
    "        E = rfit + e_star\n",
    "        return E"
   ]
  },
  {
   "cell_type": "code",
   "execution_count": 223,
   "metadata": {
    "collapsed": false
   },
   "outputs": [
    {
     "data": {
      "text/plain": [
       "0        38.168178\n",
       "2        69.207284\n",
       "4        23.083980\n",
       "6        53.751138\n",
       "11       29.267550\n",
       "12       17.616539\n",
       "17       54.329426\n",
       "19       37.016914\n",
       "27       15.716179\n",
       "28       36.391043\n",
       "30       40.316375\n",
       "34       44.233321\n",
       "37       32.389262\n",
       "40       58.355093\n",
       "41       71.334323\n",
       "42        9.746140\n",
       "43       52.048892\n",
       "44       61.886317\n",
       "45       53.818488\n",
       "48       13.864160\n",
       "49       18.102220\n",
       "57       31.853679\n",
       "58       38.352742\n",
       "59       29.426338\n",
       "60       15.869652\n",
       "62       33.698762\n",
       "64       40.464051\n",
       "66       54.153708\n",
       "67       31.736108\n",
       "70       19.214157\n",
       "           ...    \n",
       "51779    11.942873\n",
       "51780    22.605148\n",
       "51782    17.059717\n",
       "51785    73.971335\n",
       "51787    21.056925\n",
       "51788    15.380731\n",
       "51790    70.650361\n",
       "51791    18.603013\n",
       "51793    30.820064\n",
       "51794    31.988707\n",
       "51795    15.778623\n",
       "51796     9.448955\n",
       "51798     9.613666\n",
       "51802    30.754666\n",
       "51803    23.175259\n",
       "51804    21.502459\n",
       "51807    16.859516\n",
       "51808    34.228978\n",
       "51809    23.045253\n",
       "51812    34.997024\n",
       "51813    21.258672\n",
       "51814    14.386853\n",
       "51816    21.578932\n",
       "51817    21.543147\n",
       "51819    21.502368\n",
       "51820    32.987803\n",
       "51822    30.328017\n",
       "51824    18.151181\n",
       "51825    17.593789\n",
       "51826    24.499422\n",
       "dtype: float64"
      ]
     },
     "execution_count": 223,
     "metadata": {},
     "output_type": "execute_result"
    }
   ],
   "source": [
    "Oaxaca_stats(1970).bootstrap(0)"
   ]
  },
  {
   "cell_type": "code",
   "execution_count": 187,
   "metadata": {
    "collapsed": false
   },
   "outputs": [
    {
     "data": {
      "text/plain": [
       "-1"
      ]
     },
     "execution_count": 187,
     "metadata": {},
     "output_type": "execute_result"
    }
   ],
   "source": [
    "np.sign(-3)"
   ]
  },
  {
   "cell_type": "code",
   "execution_count": null,
   "metadata": {
    "collapsed": true
   },
   "outputs": [],
   "source": []
  }
 ],
 "metadata": {
  "kernelspec": {
   "display_name": "Python 3",
   "language": "python",
   "name": "python3"
  },
  "language_info": {
   "codemirror_mode": {
    "name": "ipython",
    "version": 3
   },
   "file_extension": ".py",
   "mimetype": "text/x-python",
   "name": "python",
   "nbconvert_exporter": "python",
   "pygments_lexer": "ipython3",
   "version": "3.6.0"
  }
 },
 "nbformat": 4,
 "nbformat_minor": 2
}
